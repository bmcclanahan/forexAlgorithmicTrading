{
 "cells": [
  {
   "cell_type": "code",
   "execution_count": null,
   "metadata": {},
   "outputs": [],
   "source": [
    "import datetime\n",
    "from ibapi import wrapper\n",
    "from ibapi import client\n",
    "from ibapi import contract\n",
    "from collections import defaultdict\n",
    "\n",
    "\n",
    "class Wrapper(wrapper.EWrapper):\n",
    "    def __init__(self):\n",
    "        pass\n",
    "\n",
    "class Client(client.EClient):\n",
    "    def __init__(self, wrapper):\n",
    "        client.EClient.__init__(self, wrapper)\n",
    "\n",
    "class App(Wrapper, Client):\n",
    "    \n",
    "    def __init__(self):\n",
    "        Wrapper.__init__(self)\n",
    "        Client.__init__(self, wrapper=self)\n",
    "        self.__unq_id = 0\n",
    "        self.historical_data = defaultdict(list)\n",
    "\n",
    "\n",
    "    def historicalData(self, reqId, bar):\n",
    "        print(\"HistoricalData. ReqId:\", reqId, \"BarData.\", end='\\r')\n",
    "        self.historical_data[reqId].append(bar)\n",
    "        trade_tm_dt = datetime.datetime.strptime(\n",
    "            bar.date[:-2] + '00', '%Y%m%d  %H:%M:%S'\n",
    "        )\n",
    "\n",
    "    \n",
    "                 \n",
    "    def historicalDataEnd(self, reqId: int, start: str, end: str):\n",
    "        super().historicalDataEnd(reqId, start, end)\n",
    "        print(\"HistoricalDataEnd. ReqId:\", reqId, \"from\", start, \"to\", end)\n",
    "        super().disconnect()\n",
    "\n",
    "\n",
    "    def get_contract(self, symbol, secType='CASH', currency='USD', exchange='IDEALPRO', futures_month=None):\n",
    "        sec_contract = contract.Contract()\n",
    "        sec_contract.symbol = symbol\n",
    "        sec_contract.secType = secType\n",
    "        sec_contract.currency = currency\n",
    "        sec_contract.exchange = exchange\n",
    "        return sec_contract\n",
    "\n",
    "    def get_unique_id(self, filepath='counter.txt'):\n",
    "        counter = 1\n",
    "        if self.__unq_id is None:\n",
    "            if not opath.exists(filepath):\n",
    "                with open(filepath, 'w') as cnt_file:\n",
    "                    cnt_file.write('1')\n",
    "            else:\n",
    "                with open(filepath, 'r') as cnt_file:\n",
    "                    counter = int(cnt_file.read())\n",
    "                with open(filepath, 'w') as cnt_file:\n",
    "                    cnt_file.write(str(counter + 5))\n",
    "        else:\n",
    "            counter = self.__unq_id + 5\n",
    "            self.__unq_id = counter\n",
    "        return counter\n",
    "\n",
    "    \n",
    "    def get_historical_data(self, symbol, secType='CASH', exchange='IDEALPRO',\n",
    "                            history_len=5, history_unit='D', bar_unit='hour', bar_length=1,\n",
    "                            only_RTH=0, **kwargs):\n",
    "        unq_id = self.get_unique_id()\n",
    "        req_id = int(f'{unq_id}')\n",
    "        self.__current_req_id = req_id\n",
    "        sec_contract = self.get_contract(symbol, secType=secType, exchange=exchange)\n",
    "        sym_data = self.reqHistoricalData(req_id, sec_contract, \"\", f\"{history_len} {history_unit}\",\n",
    "                                          f\"{bar_length} {bar_unit}\", 'BID', only_RTH, 1, False, [])\n",
    "        self.__proc_req_ids = [req_id]\n",
    "        return req_id"
   ]
  },
  {
   "cell_type": "code",
   "execution_count": null,
   "metadata": {},
   "outputs": [],
   "source": [
    "app = App()"
   ]
  },
  {
   "cell_type": "code",
   "execution_count": null,
   "metadata": {},
   "outputs": [],
   "source": [
    "app.connect('127.0.0.1',  7497, clientId=0)"
   ]
  },
  {
   "cell_type": "code",
   "execution_count": null,
   "metadata": {},
   "outputs": [],
   "source": [
    "app.get_historical_data('GBP', history_len=30)"
   ]
  },
  {
   "cell_type": "code",
   "execution_count": null,
   "metadata": {},
   "outputs": [],
   "source": [
    "app.run()"
   ]
  },
  {
   "cell_type": "code",
   "execution_count": null,
   "metadata": {},
   "outputs": [],
   "source": [
    "import pandas as pd\n",
    "\n",
    "\n",
    "def bar_to_df(historical_data):\n",
    "    data = []\n",
    "    columns = ['date', 'open', 'close', 'high', 'low']\n",
    "    for key in historical_data:\n",
    "        for bar in historical_data[key]:\n",
    "            date = datetime.datetime.strptime(bar.date, '%Y%m%d %H:%M:%S')\n",
    "            data.append(\n",
    "                [date, bar.open, bar.close, bar.high, bar.low]\n",
    "            )\n",
    "    return pd.DataFrame(data, columns=columns)\n",
    "            "
   ]
  },
  {
   "cell_type": "code",
   "execution_count": null,
   "metadata": {},
   "outputs": [],
   "source": [
    "df = bar_to_df(app.historical_data)"
   ]
  },
  {
   "cell_type": "code",
   "execution_count": null,
   "metadata": {},
   "outputs": [],
   "source": [
    "df = df.assign(min_rolling=df.low.rolling(15).min())"
   ]
  },
  {
   "cell_type": "code",
   "execution_count": null,
   "metadata": {},
   "outputs": [],
   "source": [
    "df = df.assign(last_min_rolling=df.min_rolling.shift(1))"
   ]
  },
  {
   "cell_type": "code",
   "execution_count": null,
   "metadata": {},
   "outputs": [],
   "source": [
    "df = df.assign(last_low=df.low.shift(1))\n",
    "df = df.assign(next_low=df.low.shift(-1))"
   ]
  },
  {
   "cell_type": "code",
   "execution_count": null,
   "metadata": {},
   "outputs": [],
   "source": [
    "df = df.assign(local_low=((df.low < df.last_low) & (df.low < df.next_low)))"
   ]
  },
  {
   "cell_type": "code",
   "execution_count": null,
   "metadata": {},
   "outputs": [],
   "source": [
    "df = df.assign(pivot=((df.min_rolling != df.rolling) & df.local_low))"
   ]
  },
  {
   "cell_type": "code",
   "execution_count": null,
   "metadata": {},
   "outputs": [],
   "source": [
    "chart_df = df.copy()"
   ]
  },
  {
   "cell_type": "code",
   "execution_count": null,
   "metadata": {},
   "outputs": [],
   "source": [
    "import numpy as np\n",
    "\n",
    "def extract_pivots(df):\n",
    "    index = (df.min_rolling != df.last_min_rolling) & df.local_low\n",
    "    return df.loc[index]\n",
    "\n",
    "\n",
    "def add_trend_lines(df):\n",
    "    pivots = extract_pivots(df)\n",
    "    pivots = pivots.assign(last_date=pivots.date.shift(1))\n",
    "    pivots = pivots.assign(last_low=pivots.low.shift(1))\n",
    "    run = (pivots.date - pivots.last_date).dt.total_seconds() / 3600.0\n",
    "    rise = pivots.low - pivots.last_low\n",
    "    pivots = pivots.assign(slope=rise.astype(float) / run)\n",
    "    pivots = pivots.assign(slope=pivots.slope.fillna(method='bfill'))\n",
    "    df = df.assign(trend=np.nan, back_trend=np.nan, slope=np.nan, back_slope=np.nan)\n",
    "    df.loc[pivots.index, 'slope'] = pivots.slope\n",
    "    df = df.assign(slope=df.slope.fillna(method='ffill'))\n",
    "    df.loc[pivots.index, 'back_slope'] = df.loc[pivots.index, 'slope']\n",
    "    df = df.assign(back_slope=df.back_slope.fillna(method='bfill'))\n",
    "    started = False\n",
    "    back_started = False\n",
    "    line_index = 0\n",
    "    back_line_index = 0\n",
    "    for index in range(1, df.shape[0]):\n",
    "        if ((df.iloc[index - 1].slope != df.iloc[index].slope) and not np.isnan(df.iloc[index].slope) and not started):\n",
    "            line_index = 0\n",
    "            started = True\n",
    "        elif (df.iloc[index - 1].slope != df.iloc[index].slope):\n",
    "            line_index = 0\n",
    "        if started:\n",
    "            location = df.index[index]\n",
    "            last_location = df.index[index - 1]\n",
    "            if df.iloc[index].slope > 0:\n",
    "                df.loc[location, 'trend'] = df.loc[location, \"low\"] if line_index == 0 else df.loc[last_location, \"trend\"] + df.iloc[index].slope\n",
    "            line_index += 1\n",
    "        end_index = df.shape[0] - 1 - index\n",
    "        last_end_index = df.shape[0] - index\n",
    "        # extract this into function\n",
    "        if ((df.iloc[end_index].back_slope != df.iloc[last_end_index].back_slope) and not np.isnan(df.iloc[end_index].back_slope) and not back_started):\n",
    "            back_line_index = 0\n",
    "            back_started = True\n",
    "        elif (df.iloc[end_index].back_slope != df.iloc[last_end_index].back_slope):\n",
    "            back_line_index = 0\n",
    "        if back_started:\n",
    "            location = df.index[end_index]\n",
    "            last_location = df.index[last_end_index]\n",
    "            if df.iloc[end_index].back_slope > 0:\n",
    "                df.loc[location, 'back_trend'] = df.loc[location, \"low\"] if back_line_index == 0 else df.loc[last_location, \"back_trend\"] - df.iloc[end_index].back_slope\n",
    "            back_line_index += 1\n",
    "            \n",
    "        \n",
    "    return df, pivots"
   ]
  },
  {
   "cell_type": "code",
   "execution_count": null,
   "metadata": {},
   "outputs": [],
   "source": [
    "trend_df, pivs = add_trend_lines(df)"
   ]
  },
  {
   "cell_type": "code",
   "execution_count": null,
   "metadata": {},
   "outputs": [],
   "source": [
    "import plotly.graph_objs as go\n",
    "\n",
    "\n",
    "def plot_data(df, pivots):\n",
    "    fig = go.Figure()\n",
    "    fig.add_trace(\n",
    "        go.Candlestick(\n",
    "        open=df.open, high=df.high, low=df.low,\n",
    "        close=df.close, x=df.date\n",
    "        )  \n",
    "    )\n",
    "    '''\n",
    "    fig.add_trace(\n",
    "        go.Scatter(\n",
    "            x = [pd.Timestamp('2022-07-26 08:00:00'), pd.Timestamp('2022-07-26 17:15:00')],\n",
    "            y = [1.19635, 1.1986], mode='lines', marker=dict(color='blue')\n",
    "        )\n",
    "    )\n",
    "    '''\n",
    "    # pivots_df = extract_pivots(df)\n",
    "    \n",
    "    fig.add_trace(\n",
    "        go.Scatter(\n",
    "            x=df.date, y=df.trend, mode='markers', marker=dict(color='blue'),\n",
    "            name='trend'\n",
    "        )\n",
    "    )\n",
    "    \n",
    "    fig.add_trace(\n",
    "        go.Scatter(\n",
    "            x=df.date, y=df.back_trend, mode='markers', marker=dict(color='purple'),\n",
    "            name='back trend'\n",
    "        )\n",
    "    )\n",
    "    \n",
    "    pivots_df = extract_pivots(df)\n",
    "    fig.add_trace(\n",
    "        go.Scatter(\n",
    "            x=pivots.date, y=pivots.low, mode='markers', marker=dict(color='black'),\n",
    "            name='pivots'\n",
    "        )\n",
    "    )\n",
    "    \n",
    "    fig.update_layout(xaxis_rangeslider_visible=False, height=700)\n",
    "    return fig"
   ]
  },
  {
   "cell_type": "code",
   "execution_count": null,
   "metadata": {},
   "outputs": [],
   "source": [
    "fig = plot_data(trend_df, pivs)"
   ]
  },
  {
   "cell_type": "code",
   "execution_count": null,
   "metadata": {},
   "outputs": [],
   "source": [
    "fig"
   ]
  },
  {
   "cell_type": "code",
   "execution_count": null,
   "metadata": {},
   "outputs": [],
   "source": []
  }
 ],
 "metadata": {
  "kernelspec": {
   "display_name": "Python 3",
   "language": "python",
   "name": "python3"
  },
  "language_info": {
   "codemirror_mode": {
    "name": "ipython",
    "version": 3
   },
   "file_extension": ".py",
   "mimetype": "text/x-python",
   "name": "python",
   "nbconvert_exporter": "python",
   "pygments_lexer": "ipython3",
   "version": "3.7.6"
  }
 },
 "nbformat": 4,
 "nbformat_minor": 4
}
